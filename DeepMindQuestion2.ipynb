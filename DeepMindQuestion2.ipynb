{
 "cells": [
  {
   "cell_type": "code",
   "execution_count": 1,
   "metadata": {},
   "outputs": [],
   "source": [
    "#Import of libraries\n",
    "import numpy as np\n",
    "import random"
   ]
  },
  {
   "cell_type": "code",
   "execution_count": 2,
   "metadata": {},
   "outputs": [],
   "source": [
    "#Number of stick breakable points to discretize stick. We assume that the stick can only be broken\n",
    "#at specific locations\n",
    "k=10000"
   ]
  },
  {
   "cell_type": "code",
   "execution_count": 3,
   "metadata": {},
   "outputs": [],
   "source": [
    "#Number of total trials in order to find the expected value for the largest piece\n",
    "N=1000000\n",
    "#Associated lists to store the value of the largest piece and the corresponding probability\n",
    "varX=[]\n",
    "probX=[]"
   ]
  },
  {
   "cell_type": "code",
   "execution_count": 4,
   "metadata": {},
   "outputs": [],
   "source": [
    "#The following list contains the possible breakage points on the unit length stick\n",
    "seg1=[i for i in range(1,k+1)]\n",
    "#seg1"
   ]
  },
  {
   "cell_type": "code",
   "execution_count": 5,
   "metadata": {},
   "outputs": [
    {
     "data": {
      "text/plain": [
       "0.0001"
      ]
     },
     "execution_count": 5,
     "metadata": {},
     "output_type": "execute_result"
    }
   ],
   "source": [
    "#All of the breakable points have the same probability to be broken, because we assume none of these points\n",
    "#are more sensitive than others.\n",
    "probChoice1=1/k\n",
    "probChoice1"
   ]
  },
  {
   "cell_type": "code",
   "execution_count": 6,
   "metadata": {},
   "outputs": [],
   "source": [
    "#Lists for the second breakage points and their probabilities\n",
    "seg2=[]\n",
    "prob2=[]"
   ]
  },
  {
   "cell_type": "code",
   "execution_count": 7,
   "metadata": {},
   "outputs": [],
   "source": [
    "#Fill seg2 with the possible remaining breakable points with respect to the first one. Also fill, prob2\n",
    "#with the relevant probability (we consider here that all of the second possible points are also equiprobables). \n",
    "\n",
    "for i in seg1:\n",
    "    if i ==1: #check if the first breakage is at the first breakable point.\n",
    "        seg2poss=[a for a in range(2,k+1)]\n",
    "        prob2poss=[1/(k-1)]\n",
    "    if i==k: #check if the first breakage is at the first breakable point.\n",
    "        seg2poss=[a for a in range (1,k)]\n",
    "        prob2poss=[1/(k-1)]\n",
    "    if i!=1 and i!=k: #check if the first breakage is neither the first breakable point, nor the last.\n",
    "        seg2poss=[[a for a in range(1,i)],[a for a in range(i+1, k+1)]]\n",
    "        c=1/(k-1)\n",
    "        d=1/(k-1)\n",
    "        \n",
    "        prob2poss=[c,d]\n",
    "    seg2.append(seg2poss)\n",
    "    prob2.append(prob2poss)\n",
    "    \n",
    "#seg2,prob2"
   ]
  },
  {
   "cell_type": "code",
   "execution_count": 8,
   "metadata": {},
   "outputs": [
    {
     "data": {
      "text/plain": [
       "1.9999999999992442"
      ]
     },
     "execution_count": 8,
     "metadata": {},
     "output_type": "execute_result"
    }
   ],
   "source": [
    "#Sum of all probabilities for normalization\n",
    "normSum2=0\n",
    "for j in range (len(prob2)):\n",
    "    if len(prob2[j])==1:\n",
    "        normSum2+=prob2[j][0]\n",
    "    else:\n",
    "        normSum2+=prob2[j][0]\n",
    "        normSum2+=prob2[j][1]\n",
    "normSum2        "
   ]
  },
  {
   "cell_type": "code",
   "execution_count": 9,
   "metadata": {},
   "outputs": [],
   "source": [
    "#Division of each probability in prob2 by the previous sum for normalization\n",
    "for j in range (len(prob2)):\n",
    "    if len(prob2[j])==1:\n",
    "        prob2[j][0]=prob2[j][0]/normSum2\n",
    "    else:\n",
    "        prob2[j][0]=prob2[j][0]/normSum2\n",
    "        prob2[j][1]=prob2[j][1]/normSum2\n",
    "#prob2"
   ]
  },
  {
   "cell_type": "code",
   "execution_count": 10,
   "metadata": {},
   "outputs": [],
   "source": [
    "#Now that we have established our probability distribution for the possible points where the two breakages\n",
    "#can happen, we want to simulate this a number of time, in order to derive the expected value for the largest\n",
    "#piece. We define two lists which would contain respectively the length of the largest piece, and the associated\n",
    "#probability.\n",
    "varX=[]\n",
    "probX=[]\n",
    "\n",
    "for j in range (N):\n",
    "    #Choose randomly the first breakage point. Again, its associated probability is prob1=1/k\n",
    "    indexChoice1=np.random.choice([a for a in range(k)])\n",
    "    choice1=seg1[indexChoice1]\n",
    "    #Check if the first breakage is at the first breakable point or at the last one\n",
    "    if indexChoice1==0 or indexChoice1==k-1:\n",
    "        choice2=np.random.choice(seg2[indexChoice1])\n",
    "        probChoice2=prob2[indexChoice1][0]\n",
    "    else:\n",
    "        #Choose randomly first the piece (left or right) to consider after the first breakage\n",
    "        index=np.random.choice([0,1])\n",
    "        #Select now randomly the second breakage point and select its probability as well\n",
    "        choice2=np.random.choice(seg2[indexChoice1][index])\n",
    "        probChoice2=prob2[indexChoice1][index]\n",
    "\n",
    "    #Find the largest piece with consideration to the breaking points (and their orders on the stick)\n",
    "    if choice1<choice2:\n",
    "        segMax=max([choice1,choice2-choice1,k+1-choice2])\n",
    "    else:\n",
    "        segMax=max([choice2,choice1-choice2,k+1-choice1])\n",
    "    \n",
    "    #Update the lists with the largest segment length and the event probability\n",
    "    varX.append(segMax)\n",
    "    #The probability of this event depends on both the probability of the first breakage and the one\n",
    "    #for the second breakage. However, since the first breakage happens uniformely randomly, it does\n",
    "    #not matter to multiply it with the probability of the second breakage\n",
    "    probX.append(probChoice2*probChoice1)\n"
   ]
  },
  {
   "cell_type": "code",
   "execution_count": 11,
   "metadata": {},
   "outputs": [
    {
     "data": {
      "text/plain": [
       "1.000000000023199"
      ]
     },
     "execution_count": 11,
     "metadata": {},
     "output_type": "execute_result"
    }
   ],
   "source": [
    "#We now need to normalize the probabilities of all events\n",
    "sumProbX=sum(probX)\n",
    "for i in range(N):\n",
    "    probX[i]=probX[i]/sumProbX\n",
    "sum(probX)"
   ]
  },
  {
   "cell_type": "code",
   "execution_count": 12,
   "metadata": {},
   "outputs": [
    {
     "data": {
      "text/plain": [
       "0.662566724706421"
      ]
     },
     "execution_count": 12,
     "metadata": {},
     "output_type": "execute_result"
    }
   ],
   "source": [
    "#The expected value for the largest piece\n",
    "xMax=0\n",
    "for i in range (N):\n",
    "    xMax+=probX[i]*varX[i]\n",
    "\n",
    "#Normalization to unit length\n",
    "xMax/k"
   ]
  },
  {
   "cell_type": "code",
   "execution_count": null,
   "metadata": {},
   "outputs": [],
   "source": []
  }
 ],
 "metadata": {
  "kernelspec": {
   "display_name": "Python 3",
   "language": "python",
   "name": "python3"
  },
  "language_info": {
   "codemirror_mode": {
    "name": "ipython",
    "version": 3
   },
   "file_extension": ".py",
   "mimetype": "text/x-python",
   "name": "python",
   "nbconvert_exporter": "python",
   "pygments_lexer": "ipython3",
   "version": "3.6.9"
  }
 },
 "nbformat": 4,
 "nbformat_minor": 2
}
