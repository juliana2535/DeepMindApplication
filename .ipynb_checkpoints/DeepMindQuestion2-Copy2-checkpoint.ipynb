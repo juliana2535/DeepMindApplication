{
 "cells": [
  {
   "cell_type": "code",
   "execution_count": 78,
   "metadata": {},
   "outputs": [],
   "source": [
    "#Import of libraries\n",
    "import numpy as np\n",
    "import random"
   ]
  },
  {
   "cell_type": "code",
   "execution_count": 79,
   "metadata": {},
   "outputs": [],
   "source": [
    "random.seed(30)"
   ]
  },
  {
   "cell_type": "code",
   "execution_count": 80,
   "metadata": {},
   "outputs": [],
   "source": [
    "#Number of stick breakable points to discretize stick. We assume that the stick can only be broken\n",
    "#at specific locations\n",
    "k=10"
   ]
  },
  {
   "cell_type": "code",
   "execution_count": 81,
   "metadata": {},
   "outputs": [],
   "source": [
    "#Number of total trials in order to find the expected value for the largest piece\n",
    "N=100\n",
    "#Associated lists to store the value of the largest piece and the corresponding probability\n",
    "varX=[]\n",
    "probX=[]"
   ]
  },
  {
   "cell_type": "code",
   "execution_count": 82,
   "metadata": {},
   "outputs": [
    {
     "data": {
      "text/plain": [
       "[1, 2, 3, 4, 5, 6, 7, 8, 9, 10]"
      ]
     },
     "execution_count": 82,
     "metadata": {},
     "output_type": "execute_result"
    }
   ],
   "source": [
    "#The following list contains the possible breakage points on the unit length stick\n",
    "seg1=[i for i in range(1,k+1)]\n",
    "seg1"
   ]
  },
  {
   "cell_type": "code",
   "execution_count": 83,
   "metadata": {},
   "outputs": [
    {
     "data": {
      "text/plain": [
       "0.1"
      ]
     },
     "execution_count": 83,
     "metadata": {},
     "output_type": "execute_result"
    }
   ],
   "source": [
    "#All of the breakable points have the same probability to be broken, because we assume none of these points\n",
    "#are more sensitive than others.\n",
    "probChoice1=1/k\n",
    "probChoice1"
   ]
  },
  {
   "cell_type": "code",
   "execution_count": 84,
   "metadata": {},
   "outputs": [],
   "source": [
    "#Lists for the second breakage points and their probabilities\n",
    "seg2=[]\n",
    "prob2=[]"
   ]
  },
  {
   "cell_type": "code",
   "execution_count": 85,
   "metadata": {},
   "outputs": [
    {
     "data": {
      "text/plain": [
       "([[2, 3, 4, 5, 6, 7, 8, 9, 10],\n",
       "  [[1], [3, 4, 5, 6, 7, 8, 9, 10]],\n",
       "  [[1, 2], [4, 5, 6, 7, 8, 9, 10]],\n",
       "  [[1, 2, 3], [5, 6, 7, 8, 9, 10]],\n",
       "  [[1, 2, 3, 4], [6, 7, 8, 9, 10]],\n",
       "  [[1, 2, 3, 4, 5], [7, 8, 9, 10]],\n",
       "  [[1, 2, 3, 4, 5, 6], [8, 9, 10]],\n",
       "  [[1, 2, 3, 4, 5, 6, 7], [9, 10]],\n",
       "  [[1, 2, 3, 4, 5, 6, 7, 8], [10]],\n",
       "  [1, 2, 3, 4, 5, 6, 7, 8, 9]],\n",
       " [[0.1111111111111111],\n",
       "  [1.0, 0.125],\n",
       "  [0.5, 0.14285714285714285],\n",
       "  [0.3333333333333333, 0.16666666666666666],\n",
       "  [0.25, 0.2],\n",
       "  [0.2, 0.25],\n",
       "  [0.16666666666666666, 0.3333333333333333],\n",
       "  [0.14285714285714285, 0.5],\n",
       "  [0.125, 1.0],\n",
       "  [0.1111111111111111]])"
      ]
     },
     "execution_count": 85,
     "metadata": {},
     "output_type": "execute_result"
    }
   ],
   "source": [
    "#Fill seg2 with the possible remaining breakable points with respect to the first one. Also fill, prob2\n",
    "#with the relevant probability. If the second breakable point is not located near the begining of the stick nor the\n",
    "#end of the stick, we assume that, it would be possible for one to break the stick either at the left of the first\n",
    "#point or at the right of this first point. Therefore, once the side for the second breakage is chosen, depending\n",
    "#of how long this piece is, the probability of selecting one of the breakable points of this piece is related to the\n",
    "#length of this stick. Indeed, the longer the selected piece, the smaller the probability to select the second \n",
    "#breaking point, which is uniform on this piece.\n",
    "\n",
    "for i in seg1:\n",
    "    if i ==1: #check if the first breakage is at the first breakable point.\n",
    "        seg2poss=[a for a in range(2,k+1)]\n",
    "        prob2poss=[1/(k-1)]\n",
    "    if i==k: #check if the first breakage is at the first breakable point.\n",
    "        seg2poss=[a for a in range (1,k)]\n",
    "        prob2poss=[1/(k-1)]\n",
    "    if i!=1 and i!=k: #check if the first breakage is neither the first breakable point, nor the last.\n",
    "        seg2poss=[[a for a in range(1,i)],[a for a in range(i+1, k+1)]]\n",
    "        c=1/len(seg2poss[0])\n",
    "        d=1/len(seg2poss[1])\n",
    "        prob2poss=[c,d]\n",
    "    seg2.append(seg2poss)\n",
    "    prob2.append(prob2poss)\n",
    "    \n",
    "seg2,prob2"
   ]
  },
  {
   "cell_type": "code",
   "execution_count": 86,
   "metadata": {},
   "outputs": [
    {
     "data": {
      "text/plain": [
       "(10, 10, 10)"
      ]
     },
     "execution_count": 86,
     "metadata": {},
     "output_type": "execute_result"
    }
   ],
   "source": [
    "len(seg1),len(seg2),len(prob2)"
   ]
  },
  {
   "cell_type": "code",
   "execution_count": 87,
   "metadata": {},
   "outputs": [
    {
     "data": {
      "text/plain": [
       "5.657936507936508"
      ]
     },
     "execution_count": 87,
     "metadata": {},
     "output_type": "execute_result"
    }
   ],
   "source": [
    "#Sum of all probabilities for normalization\n",
    "normSum2=0\n",
    "for j in range (len(prob2)):\n",
    "    if len(prob2[j])==1:\n",
    "        normSum2+=prob2[j][0]\n",
    "    else:\n",
    "        normSum2+=prob2[j][0]\n",
    "        normSum2+=prob2[j][1]\n",
    "normSum2        "
   ]
  },
  {
   "cell_type": "code",
   "execution_count": 88,
   "metadata": {},
   "outputs": [
    {
     "data": {
      "text/plain": [
       "[[0.019638097909945293],\n",
       " [0.17674288118950762, 0.022092860148688453],\n",
       " [0.08837144059475381, 0.025248983027072517],\n",
       " [0.05891429372983587, 0.029457146864917936],\n",
       " [0.044185720297376906, 0.03534857623790153],\n",
       " [0.03534857623790153, 0.044185720297376906],\n",
       " [0.029457146864917936, 0.05891429372983587],\n",
       " [0.025248983027072517, 0.08837144059475381],\n",
       " [0.022092860148688453, 0.17674288118950762],\n",
       " [0.019638097909945293]]"
      ]
     },
     "execution_count": 88,
     "metadata": {},
     "output_type": "execute_result"
    }
   ],
   "source": [
    "#Division of each probability in prob2 by the previous sum for normalization\n",
    "for j in range (len(prob2)):\n",
    "    if len(prob2[j])==1:\n",
    "        prob2[j][0]=prob2[j][0]/normSum2\n",
    "    else:\n",
    "        prob2[j][0]=prob2[j][0]/normSum2\n",
    "        prob2[j][1]=prob2[j][1]/normSum2\n",
    "prob2"
   ]
  },
  {
   "cell_type": "code",
   "execution_count": 89,
   "metadata": {},
   "outputs": [
    {
     "name": "stdout",
     "output_type": "stream",
     "text": [
      "i 1 prob2[i][j] 0.17674288118950762\n",
      "i 1 prob2[i][j] 0.022092860148688453\n",
      "i 1 prob2[i][j] 0.022092860148688453\n",
      "i 1 prob2[i][j] 0.022092860148688453\n",
      "i 1 prob2[i][j] 0.022092860148688453\n",
      "i 1 prob2[i][j] 0.022092860148688453\n",
      "i 1 prob2[i][j] 0.022092860148688453\n",
      "i 1 prob2[i][j] 0.022092860148688453\n",
      "i 1 prob2[i][j] 0.022092860148688453\n",
      "i 2 prob2[i][j] 0.08837144059475381\n",
      "i 2 prob2[i][j] 0.08837144059475381\n",
      "i 2 prob2[i][j] 0.025248983027072517\n",
      "i 2 prob2[i][j] 0.025248983027072517\n",
      "i 2 prob2[i][j] 0.025248983027072517\n",
      "i 2 prob2[i][j] 0.025248983027072517\n",
      "i 2 prob2[i][j] 0.025248983027072517\n",
      "i 2 prob2[i][j] 0.025248983027072517\n",
      "i 2 prob2[i][j] 0.025248983027072517\n",
      "i 3 prob2[i][j] 0.05891429372983587\n",
      "i 3 prob2[i][j] 0.05891429372983587\n",
      "i 3 prob2[i][j] 0.05891429372983587\n",
      "i 3 prob2[i][j] 0.029457146864917936\n",
      "i 3 prob2[i][j] 0.029457146864917936\n",
      "i 3 prob2[i][j] 0.029457146864917936\n",
      "i 3 prob2[i][j] 0.029457146864917936\n",
      "i 3 prob2[i][j] 0.029457146864917936\n",
      "i 3 prob2[i][j] 0.029457146864917936\n",
      "i 4 prob2[i][j] 0.044185720297376906\n",
      "i 4 prob2[i][j] 0.044185720297376906\n",
      "i 4 prob2[i][j] 0.044185720297376906\n",
      "i 4 prob2[i][j] 0.044185720297376906\n",
      "i 4 prob2[i][j] 0.03534857623790153\n",
      "i 4 prob2[i][j] 0.03534857623790153\n",
      "i 4 prob2[i][j] 0.03534857623790153\n",
      "i 4 prob2[i][j] 0.03534857623790153\n",
      "i 4 prob2[i][j] 0.03534857623790153\n",
      "i 5 prob2[i][j] 0.03534857623790153\n",
      "i 5 prob2[i][j] 0.03534857623790153\n",
      "i 5 prob2[i][j] 0.03534857623790153\n",
      "i 5 prob2[i][j] 0.03534857623790153\n",
      "i 5 prob2[i][j] 0.03534857623790153\n",
      "i 5 prob2[i][j] 0.044185720297376906\n",
      "i 5 prob2[i][j] 0.044185720297376906\n",
      "i 5 prob2[i][j] 0.044185720297376906\n",
      "i 5 prob2[i][j] 0.044185720297376906\n",
      "i 6 prob2[i][j] 0.029457146864917936\n",
      "i 6 prob2[i][j] 0.029457146864917936\n",
      "i 6 prob2[i][j] 0.029457146864917936\n",
      "i 6 prob2[i][j] 0.029457146864917936\n",
      "i 6 prob2[i][j] 0.029457146864917936\n",
      "i 6 prob2[i][j] 0.029457146864917936\n",
      "i 6 prob2[i][j] 0.05891429372983587\n",
      "i 6 prob2[i][j] 0.05891429372983587\n",
      "i 6 prob2[i][j] 0.05891429372983587\n",
      "i 7 prob2[i][j] 0.025248983027072517\n",
      "i 7 prob2[i][j] 0.025248983027072517\n",
      "i 7 prob2[i][j] 0.025248983027072517\n",
      "i 7 prob2[i][j] 0.025248983027072517\n",
      "i 7 prob2[i][j] 0.025248983027072517\n",
      "i 7 prob2[i][j] 0.025248983027072517\n",
      "i 7 prob2[i][j] 0.025248983027072517\n",
      "i 7 prob2[i][j] 0.08837144059475381\n",
      "i 7 prob2[i][j] 0.08837144059475381\n",
      "i 8 prob2[i][j] 0.022092860148688453\n",
      "i 8 prob2[i][j] 0.022092860148688453\n",
      "i 8 prob2[i][j] 0.022092860148688453\n",
      "i 8 prob2[i][j] 0.022092860148688453\n",
      "i 8 prob2[i][j] 0.022092860148688453\n",
      "i 8 prob2[i][j] 0.022092860148688453\n",
      "i 8 prob2[i][j] 0.022092860148688453\n",
      "i 8 prob2[i][j] 0.022092860148688453\n",
      "i 8 prob2[i][j] 0.17674288118950762\n"
     ]
    },
    {
     "data": {
      "text/plain": [
       "18.81049235516903"
      ]
     },
     "execution_count": 89,
     "metadata": {},
     "output_type": "execute_result"
    }
   ],
   "source": [
    "#We determine here the expected value for the length of the largest piece by considering all events\n",
    "#given the breakage points and their probabilities\n",
    "\n",
    "xMax=0 #variable for the sum of all possibilities for the computation of the expected length for the longest piece\n",
    "\n",
    "#For all possible breakable points\n",
    "for i in range (k):\n",
    "    choice1=seg1[i]\n",
    "    if seg1[i]==1 or seg1[i]==k: #if it is the first or the last breakable point\n",
    "        #for all the possibilities for the second breakable point\n",
    "        for j in range(len(seg2[i])):\n",
    "            choice2=seg2[i][j]\n",
    "            #Find the length of the largest piece (the number of segments which compose the largest piece)\n",
    "            if choice1<choice2:\n",
    "                segMax=max([choice1,choice2-choice1,k+1-choice2])\n",
    "            else:\n",
    "                segMax=max([choice2,choice1-choice2,k+1-choice1])\n",
    "\n",
    "        xMax+=segMax*prob2[i][0]\n",
    "    else: #The second breakable point is neither the first breakable point, nor the last\n",
    "        for j in range (len(seg2[i])):\n",
    "            for l in range(len(seg2[i][j])):\n",
    "                choice2=seg2[i][j][l]\n",
    "                #Find the length of the largest piece (the number of segments which compose the largest piece)\n",
    "                if choice1<choice2:\n",
    "                    segMax=max([choice1,choice2-choice1,k+1-choice2])\n",
    "                else:\n",
    "                    segMax=max([choice2,choice1-choice2,k+1-choice1])\n",
    "                xMax+=segMax*prob2[i][j]\n",
    "                print(\"i\",i,\"prob2[i][j]\",prob2[i][j])\n",
    "                \n",
    "\n",
    "xMax"
   ]
  },
  {
   "cell_type": "code",
   "execution_count": 90,
   "metadata": {},
   "outputs": [
    {
     "data": {
      "text/plain": [
       "1.0"
      ]
     },
     "execution_count": 90,
     "metadata": {},
     "output_type": "execute_result"
    }
   ],
   "source": [
    "#Sum of all probabilities for normalization\n",
    "normSum2=0\n",
    "for j in range (len(prob2)):\n",
    "    if len(prob2[j])==1:\n",
    "        normSum2+=prob2[j][0]\n",
    "    else:\n",
    "        normSum2+=prob2[j][0]\n",
    "        normSum2+=prob2[j][1]\n",
    "normSum2        "
   ]
  },
  {
   "cell_type": "code",
   "execution_count": 91,
   "metadata": {},
   "outputs": [],
   "source": [
    "#Now that we have established our probability distribution for the possible points where the two breakages\n",
    "#can happen, we want to simulate this a number of time, in order to derive the expected value for the largest\n",
    "#piece. We define two lists which would contain respectively the length of the largest piece, and the associated\n",
    "#probability.\n",
    "varX=[]\n",
    "probX=[]\n",
    "\n",
    "for j in range (N):\n",
    "    #Choose randomly the first breakage point. Again, its associated probability is prob1=1/k\n",
    "    indexChoice1=np.random.choice([a for a in range(k)])\n",
    "    choice1=seg1[indexChoice1]\n",
    "    #Check if the first breakage is at the first breakable point or at the last one\n",
    "    if indexChoice1==0 or indexChoice1==k-1:\n",
    "        choice2=np.random.choice(seg2[indexChoice1])\n",
    "    else:\n",
    "        #Choose randomly first the piece (left or right) to consider after the first breakage\n",
    "        index=np.random.choice([0,1])\n",
    "        #Select now randomly the second breakage point and select its probability as well\n",
    "        choice2=np.random.choice(seg2[indexChoice1][index])\n",
    "        probChoice2=prob2[indexChoice1][index]\n",
    "\n",
    "    #Find the largest piece with consideration to the breaking points (and their orders on the stick)\n",
    "    if choice1<choice2:\n",
    "        segMax=max([choice1,choice2-choice1,k+1-choice2])\n",
    "    else:\n",
    "        segMax=max([choice2,choice1-choice2,k+1-choice1])\n",
    "    \n",
    "    #Update the lists with the largest segment length and the event probability\n",
    "    varX.append(segMax)\n",
    "    #The probability of this event depends on both the probability of the first breakage and the one\n",
    "    #for the second breakage. However, since the first breakage happens uniformely randomly, it does\n",
    "    #not matter to multiply it with the probability of the second breakage\n",
    "    probX.append(probChoice2)\n"
   ]
  },
  {
   "cell_type": "code",
   "execution_count": 92,
   "metadata": {},
   "outputs": [
    {
     "data": {
      "text/plain": [
       "0.9999999999999997"
      ]
     },
     "execution_count": 92,
     "metadata": {},
     "output_type": "execute_result"
    }
   ],
   "source": [
    "#We now need to normalize the probabilities of all events\n",
    "sumProbX=sum(probX)\n",
    "for i in range(N):\n",
    "    probX[i]=probX[i]/sumProbX\n",
    "sum(probX)"
   ]
  },
  {
   "cell_type": "code",
   "execution_count": 93,
   "metadata": {},
   "outputs": [
    {
     "data": {
      "text/plain": [
       "0.7074964574667456"
      ]
     },
     "execution_count": 93,
     "metadata": {},
     "output_type": "execute_result"
    }
   ],
   "source": [
    "#The expected value for the largest piece\n",
    "xMax=0\n",
    "for i in range (N):\n",
    "    xMax+=probX[i]*varX[i]\n",
    "\n",
    "xMax/k"
   ]
  },
  {
   "cell_type": "code",
   "execution_count": null,
   "metadata": {},
   "outputs": [],
   "source": []
  }
 ],
 "metadata": {
  "kernelspec": {
   "display_name": "Python 3",
   "language": "python",
   "name": "python3"
  },
  "language_info": {
   "codemirror_mode": {
    "name": "ipython",
    "version": 3
   },
   "file_extension": ".py",
   "mimetype": "text/x-python",
   "name": "python",
   "nbconvert_exporter": "python",
   "pygments_lexer": "ipython3",
   "version": "3.6.9"
  }
 },
 "nbformat": 4,
 "nbformat_minor": 2
}
