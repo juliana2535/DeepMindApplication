{
 "cells": [
  {
   "cell_type": "code",
   "execution_count": 15,
   "metadata": {},
   "outputs": [],
   "source": [
    "#Import of libraries\n",
    "import numpy as np\n",
    "import random"
   ]
  },
  {
   "cell_type": "code",
   "execution_count": 16,
   "metadata": {},
   "outputs": [],
   "source": [
    "random.seed(30)"
   ]
  },
  {
   "cell_type": "code",
   "execution_count": 17,
   "metadata": {},
   "outputs": [],
   "source": [
    "#Number of stick breakable points to discretize stick. We assume that the stick can only be broken\n",
    "#at specific locations\n",
    "k=10"
   ]
  },
  {
   "cell_type": "code",
   "execution_count": 18,
   "metadata": {},
   "outputs": [],
   "source": [
    "#Number of total trials in order to find the expected value for the largest piece\n",
    "N=100\n",
    "#Associated lists to store the value of the largest piece and the corresponding probability\n",
    "varX=[]\n",
    "probX=[]"
   ]
  },
  {
   "cell_type": "code",
   "execution_count": 19,
   "metadata": {},
   "outputs": [
    {
     "data": {
      "text/plain": [
       "[1, 2, 3, 4, 5, 6, 7, 8, 9, 10]"
      ]
     },
     "execution_count": 19,
     "metadata": {},
     "output_type": "execute_result"
    }
   ],
   "source": [
    "#The following list contains the possible breakage points on the unit length stick\n",
    "seg1=[i for i in range(1,k+1)]\n",
    "seg1"
   ]
  },
  {
   "cell_type": "code",
   "execution_count": 20,
   "metadata": {},
   "outputs": [
    {
     "data": {
      "text/plain": [
       "0.1"
      ]
     },
     "execution_count": 20,
     "metadata": {},
     "output_type": "execute_result"
    }
   ],
   "source": [
    "#All of the breakable points have the same probability to be broken, because we assume none of these points\n",
    "#are more sensitive than others.\n",
    "probChoice1=1/k\n",
    "probChoice1"
   ]
  },
  {
   "cell_type": "code",
   "execution_count": 21,
   "metadata": {},
   "outputs": [],
   "source": [
    "#Lists for the second breakage points and their probabilities\n",
    "seg2=[]\n",
    "prob2=[]"
   ]
  },
  {
   "cell_type": "code",
   "execution_count": 22,
   "metadata": {},
   "outputs": [
    {
     "data": {
      "text/plain": [
       "([[2, 3, 4, 5, 6, 7, 8, 9, 10],\n",
       "  [[1], [3, 4, 5, 6, 7, 8, 9, 10]],\n",
       "  [[1, 2], [4, 5, 6, 7, 8, 9, 10]],\n",
       "  [[1, 2, 3], [5, 6, 7, 8, 9, 10]],\n",
       "  [[1, 2, 3, 4], [6, 7, 8, 9, 10]],\n",
       "  [[1, 2, 3, 4, 5], [7, 8, 9, 10]],\n",
       "  [[1, 2, 3, 4, 5, 6], [8, 9, 10]],\n",
       "  [[1, 2, 3, 4, 5, 6, 7], [9, 10]],\n",
       "  [[1, 2, 3, 4, 5, 6, 7, 8], [10]],\n",
       "  [1, 2, 3, 4, 5, 6, 7, 8, 9]],\n",
       " [[0.1111111111111111],\n",
       "  [1.0, 0.125],\n",
       "  [0.5, 0.14285714285714285],\n",
       "  [0.3333333333333333, 0.16666666666666666],\n",
       "  [0.25, 0.2],\n",
       "  [0.2, 0.25],\n",
       "  [0.16666666666666666, 0.3333333333333333],\n",
       "  [0.14285714285714285, 0.5],\n",
       "  [0.125, 1.0],\n",
       "  [0.1111111111111111]])"
      ]
     },
     "execution_count": 22,
     "metadata": {},
     "output_type": "execute_result"
    }
   ],
   "source": [
    "#Fill seg2 with the possible remaining breakable points with respect to the first one. Also fill, prob2\n",
    "#with the relevant probability. If the second breakable point is not located near the begining of the stick nor the\n",
    "#end of the stick, we assume that, it would be possible for one to break the stick either at the left of the first\n",
    "#point or at the right of this first point. Therefore, once the side for the second breakage is chosen, depending\n",
    "#of how long this piece is, the probability of selecting one of the breakable points of this piece is related to the\n",
    "#length of this stick. Indeed, the longer the selected piece, the smaller the probability to select the second \n",
    "#breaking point, which is uniform on this piece.\n",
    "\n",
    "for i in seg1:\n",
    "    if i ==1: #check if the first breakage is at the first breakable point.\n",
    "        seg2poss=[a for a in range(2,k+1)]\n",
    "        prob2poss=[1/(k-1)]\n",
    "    if i==k: #check if the first breakage is at the first breakable point.\n",
    "        seg2poss=[a for a in range (1,k)]\n",
    "        prob2poss=[1/(k-1)]\n",
    "    if i!=1 and i!=k: #check if the first breakage is neither the first breakable point, nor the last.\n",
    "        seg2poss=[[a for a in range(1,i)],[a for a in range(i+1, k+1)]]\n",
    "        c=1/len(seg2poss[0])\n",
    "        d=1/len(seg2poss[1])\n",
    "        prob2poss=[c,d]\n",
    "    seg2.append(seg2poss)\n",
    "    prob2.append(prob2poss)\n",
    "    \n",
    "seg2,prob2"
   ]
  },
  {
   "cell_type": "code",
   "execution_count": 23,
   "metadata": {},
   "outputs": [
    {
     "data": {
      "text/plain": [
       "(10, 10, 10)"
      ]
     },
     "execution_count": 23,
     "metadata": {},
     "output_type": "execute_result"
    }
   ],
   "source": [
    "len(seg1),len(seg2),len(prob2)"
   ]
  },
  {
   "cell_type": "code",
   "execution_count": 24,
   "metadata": {},
   "outputs": [
    {
     "data": {
      "text/plain": [
       "5.657936507936508"
      ]
     },
     "execution_count": 24,
     "metadata": {},
     "output_type": "execute_result"
    }
   ],
   "source": [
    "#Sum of all probabilities for normalization\n",
    "normSum2=0\n",
    "for j in range (len(prob2)):\n",
    "    if len(prob2[j])==1:\n",
    "        normSum2+=prob2[j][0]\n",
    "    else:\n",
    "        normSum2+=prob2[j][0]\n",
    "        normSum2+=prob2[j][1]\n",
    "normSum2        "
   ]
  },
  {
   "cell_type": "code",
   "execution_count": 25,
   "metadata": {},
   "outputs": [
    {
     "data": {
      "text/plain": [
       "[[0.019638097909945293],\n",
       " [0.17674288118950762, 0.022092860148688453],\n",
       " [0.08837144059475381, 0.025248983027072517],\n",
       " [0.05891429372983587, 0.029457146864917936],\n",
       " [0.044185720297376906, 0.03534857623790153],\n",
       " [0.03534857623790153, 0.044185720297376906],\n",
       " [0.029457146864917936, 0.05891429372983587],\n",
       " [0.025248983027072517, 0.08837144059475381],\n",
       " [0.022092860148688453, 0.17674288118950762],\n",
       " [0.019638097909945293]]"
      ]
     },
     "execution_count": 25,
     "metadata": {},
     "output_type": "execute_result"
    }
   ],
   "source": [
    "#Division of each probability in prob2 by the previous sum for normalization\n",
    "for j in range (len(prob2)):\n",
    "    if len(prob2[j])==1:\n",
    "        prob2[j][0]=prob2[j][0]/normSum2\n",
    "    else:\n",
    "        prob2[j][0]=prob2[j][0]/normSum2\n",
    "        prob2[j][1]=prob2[j][1]/normSum2\n",
    "prob2"
   ]
  },
  {
   "cell_type": "code",
   "execution_count": 26,
   "metadata": {},
   "outputs": [
    {
     "name": "stdout",
     "output_type": "stream",
     "text": [
      "len(seg2[i]): 2\n",
      "i: 1 choice1 2 seg1 2 j 0 seg2: [1] k 0 choice2: 1 seg2ijk 1\n",
      "len(seg2[i]): 2\n",
      "i: 1 choice1 2 seg1 2 j 1 seg2: [3, 4, 5, 6, 7, 8, 9, 10] k 0 choice2: 3 seg2ijk 3\n",
      "i: 1 choice1 2 seg1 2 j 1 seg2: [3, 4, 5, 6, 7, 8, 9, 10] k 1 choice2: 4 seg2ijk 4\n",
      "i: 1 choice1 2 seg1 2 j 1 seg2: [3, 4, 5, 6, 7, 8, 9, 10] k 2 choice2: 5 seg2ijk 5\n",
      "i: 1 choice1 2 seg1 2 j 1 seg2: [3, 4, 5, 6, 7, 8, 9, 10] k 3 choice2: 6 seg2ijk 6\n",
      "i: 1 choice1 2 seg1 2 j 1 seg2: [3, 4, 5, 6, 7, 8, 9, 10] k 4 choice2: 7 seg2ijk 7\n",
      "i: 1 choice1 2 seg1 2 j 1 seg2: [3, 4, 5, 6, 7, 8, 9, 10] k 5 choice2: 8 seg2ijk 8\n",
      "i: 1 choice1 2 seg1 2 j 1 seg2: [3, 4, 5, 6, 7, 8, 9, 10] k 6 choice2: 9 seg2ijk 9\n",
      "i: 1 choice1 2 seg1 2 j 1 seg2: [3, 4, 5, 6, 7, 8, 9, 10] k 7 choice2: 10 seg2ijk 10\n",
      "len(seg2[i]): 2\n",
      "i: 2 choice1 3 seg1 3 j 0 seg2: [1, 2] k 0 choice2: 1 seg2ijk 1\n",
      "i: 2 choice1 3 seg1 3 j 0 seg2: [1, 2] k 1 choice2: 2 seg2ijk 2\n",
      "len(seg2[i]): 2\n",
      "i: 2 choice1 3 seg1 3 j 1 seg2: [4, 5, 6, 7, 8, 9, 10] k 0 choice2: 4 seg2ijk 4\n",
      "i: 2 choice1 3 seg1 3 j 1 seg2: [4, 5, 6, 7, 8, 9, 10] k 1 choice2: 5 seg2ijk 5\n",
      "i: 2 choice1 3 seg1 3 j 1 seg2: [4, 5, 6, 7, 8, 9, 10] k 2 choice2: 6 seg2ijk 6\n",
      "i: 2 choice1 3 seg1 3 j 1 seg2: [4, 5, 6, 7, 8, 9, 10] k 3 choice2: 7 seg2ijk 7\n",
      "i: 2 choice1 3 seg1 3 j 1 seg2: [4, 5, 6, 7, 8, 9, 10] k 4 choice2: 8 seg2ijk 8\n",
      "i: 2 choice1 3 seg1 3 j 1 seg2: [4, 5, 6, 7, 8, 9, 10] k 5 choice2: 9 seg2ijk 9\n",
      "i: 2 choice1 3 seg1 3 j 1 seg2: [4, 5, 6, 7, 8, 9, 10] k 6 choice2: 10 seg2ijk 10\n",
      "len(seg2[i]): 2\n",
      "i: 3 choice1 4 seg1 4 j 0 seg2: [1, 2, 3] k 0 choice2: 1 seg2ijk 1\n",
      "i: 3 choice1 4 seg1 4 j 0 seg2: [1, 2, 3] k 1 choice2: 2 seg2ijk 2\n",
      "i: 3 choice1 4 seg1 4 j 0 seg2: [1, 2, 3] k 2 choice2: 3 seg2ijk 3\n",
      "len(seg2[i]): 2\n",
      "i: 3 choice1 4 seg1 4 j 1 seg2: [5, 6, 7, 8, 9, 10] k 0 choice2: 5 seg2ijk 5\n",
      "i: 3 choice1 4 seg1 4 j 1 seg2: [5, 6, 7, 8, 9, 10] k 1 choice2: 6 seg2ijk 6\n",
      "i: 3 choice1 4 seg1 4 j 1 seg2: [5, 6, 7, 8, 9, 10] k 2 choice2: 7 seg2ijk 7\n",
      "i: 3 choice1 4 seg1 4 j 1 seg2: [5, 6, 7, 8, 9, 10] k 3 choice2: 8 seg2ijk 8\n",
      "i: 3 choice1 4 seg1 4 j 1 seg2: [5, 6, 7, 8, 9, 10] k 4 choice2: 9 seg2ijk 9\n",
      "i: 3 choice1 4 seg1 4 j 1 seg2: [5, 6, 7, 8, 9, 10] k 5 choice2: 10 seg2ijk 10\n"
     ]
    },
    {
     "ename": "TypeError",
     "evalue": "'<' not supported between instances of 'int' and 'list'",
     "output_type": "error",
     "traceback": [
      "\u001b[0;31m---------------------------------------------------------------------------\u001b[0m",
      "\u001b[0;31mTypeError\u001b[0m                                 Traceback (most recent call last)",
      "\u001b[0;32m<ipython-input-26-f47793f8a423>\u001b[0m in \u001b[0;36m<module>\u001b[0;34m\u001b[0m\n\u001b[1;32m     12\u001b[0m             \u001b[0mchoice2\u001b[0m\u001b[0;34m=\u001b[0m\u001b[0mseg2\u001b[0m\u001b[0;34m[\u001b[0m\u001b[0mi\u001b[0m\u001b[0;34m]\u001b[0m\u001b[0;34m[\u001b[0m\u001b[0mj\u001b[0m\u001b[0;34m]\u001b[0m\u001b[0;34m\u001b[0m\u001b[0;34m\u001b[0m\u001b[0m\n\u001b[1;32m     13\u001b[0m             \u001b[0;31m#Find the length of the largest piece (the number of segments which compose the largest piece)\u001b[0m\u001b[0;34m\u001b[0m\u001b[0;34m\u001b[0m\u001b[0;34m\u001b[0m\u001b[0m\n\u001b[0;32m---> 14\u001b[0;31m             \u001b[0;32mif\u001b[0m \u001b[0mchoice1\u001b[0m\u001b[0;34m<\u001b[0m\u001b[0mchoice2\u001b[0m\u001b[0;34m:\u001b[0m\u001b[0;34m\u001b[0m\u001b[0;34m\u001b[0m\u001b[0m\n\u001b[0m\u001b[1;32m     15\u001b[0m                 \u001b[0msegMax\u001b[0m\u001b[0;34m=\u001b[0m\u001b[0mmax\u001b[0m\u001b[0;34m(\u001b[0m\u001b[0;34m[\u001b[0m\u001b[0mchoice1\u001b[0m\u001b[0;34m,\u001b[0m\u001b[0mchoice2\u001b[0m\u001b[0;34m-\u001b[0m\u001b[0mchoice1\u001b[0m\u001b[0;34m,\u001b[0m\u001b[0mk\u001b[0m\u001b[0;34m+\u001b[0m\u001b[0;36m1\u001b[0m\u001b[0;34m-\u001b[0m\u001b[0mchoice2\u001b[0m\u001b[0;34m]\u001b[0m\u001b[0;34m)\u001b[0m\u001b[0;34m\u001b[0m\u001b[0;34m\u001b[0m\u001b[0m\n\u001b[1;32m     16\u001b[0m             \u001b[0;32melse\u001b[0m\u001b[0;34m:\u001b[0m\u001b[0;34m\u001b[0m\u001b[0;34m\u001b[0m\u001b[0m\n",
      "\u001b[0;31mTypeError\u001b[0m: '<' not supported between instances of 'int' and 'list'"
     ]
    }
   ],
   "source": [
    "#We determine here the expected value for the length of the largest piece by considering all events\n",
    "#given the breakage points and their probabilities\n",
    "\n",
    "xMax=0 #variable for the sum of all possibilities for the computation of the expected length for the longest piece\n",
    "\n",
    "#For all possible breakable points\n",
    "for i in range (k):\n",
    "    choice1=seg1[i]\n",
    "    if seg1[i]==1 or seg1[i]==k: #if it is the first or the last breakable point\n",
    "        #for all the possibilities for the second breakable point\n",
    "        for j in range(len(seg2[i])):\n",
    "            choice2=seg2[i][j]\n",
    "            #Find the length of the largest piece (the number of segments which compose the largest piece)\n",
    "            if choice1<choice2:\n",
    "                segMax=max([choice1,choice2-choice1,k+1-choice2])\n",
    "            else:\n",
    "                segMax=max([choice2,choice1-choice2,k+1-choice1])\n",
    "\n",
    "        xMax+=segMax*prob2[i][0]\n",
    "    else: #The second breakable point is neither the first breakable point, nor the last\n",
    "        for j in range (len(seg2[i])):\n",
    "            #print(\"len(seg2[i][j]):\",len(seg2[i][j]))\n",
    "            print(\"len(seg2[i]):\",len(seg2[i]))\n",
    "            lenij=len(seg2[i][j])\n",
    "            for k in range(lenij):\n",
    "               # print(\"seg2[i][j]\",len(seg2[i][j]))\n",
    "                choice2=seg2[i][j][k]\n",
    "                print(\"i:\",i,\"choice1\",choice1,\"seg1\",seg1[i],\"j\",j,\"seg2:\",seg2[i][j],\\\n",
    "                      \"k\",k,\"choice2:\",choice2,\"seg2ijk\",seg2[i][j][k])\n",
    "                #Find the length of the largest piece (the number of segments which compose the largest piece)\n",
    "                if choice1<choice2:\n",
    "                    segMax=max([choice1,choice2-choice1,k+1-choice2])\n",
    "                else:\n",
    "                    segMax=max([choice2,choice1-choice2,k+1-choice1])\n",
    "                xMax+=segMax*prob2[i][j]\n",
    "\n",
    "xMax"
   ]
  },
  {
   "cell_type": "code",
   "execution_count": 27,
   "metadata": {},
   "outputs": [
    {
     "data": {
      "text/plain": [
       "(6, 2, [1, 2, 3, 4], 3.573783139290222, [[1, 2, 3, 4], [6, 7, 8, 9, 10]])"
      ]
     },
     "execution_count": 27,
     "metadata": {},
     "output_type": "execute_result"
    }
   ],
   "source": [
    "lenij,len(seg2[i]),seg2[i][j],xMax,seg2[i]"
   ]
  },
  {
   "cell_type": "code",
   "execution_count": null,
   "metadata": {},
   "outputs": [],
   "source": [
    "choice1,choice2,i,j,k,seg2[i][j],len(seg2[i][j])"
   ]
  },
  {
   "cell_type": "code",
   "execution_count": null,
   "metadata": {},
   "outputs": [],
   "source": [
    "k=0"
   ]
  },
  {
   "cell_type": "code",
   "execution_count": null,
   "metadata": {},
   "outputs": [],
   "source": [
    "seg2[i][j][k]"
   ]
  },
  {
   "cell_type": "code",
   "execution_count": null,
   "metadata": {},
   "outputs": [],
   "source": [
    "#Now that we have established our probability distribution for the possible points where the two breakages\n",
    "#can happen, we want to simulate this a number of time, in order to derive the expected value for the largest\n",
    "#piece. We define two lists which would contain respectively the length of the largest piece, and the associated\n",
    "#probability.\n",
    "varX=[]\n",
    "probX=[]\n",
    "\n",
    "for j in range (N):\n",
    "    #Choose randomly the first breakage point. Again, its associated probability is prob1=1/k\n",
    "    indexChoice1=np.random.choice([a for a in range(k)])\n",
    "    choice1=seg1[indexChoice1]\n",
    "    #Check if the first breakage is at the first breakable point or at the last one\n",
    "    if indexChoice1==0 or indexChoice1==k-1:\n",
    "        choice2=np.random.choice(seg2[indexChoice1])\n",
    "    else:\n",
    "        #Choose randomly first the piece (left or right) to consider after the first breakage\n",
    "        index=np.random.choice([0,1])\n",
    "        #Select now randomly the second breakage point and select its probability as well\n",
    "        choice2=np.random.choice(seg2[indexChoice1][index])\n",
    "        probChoice2=prob2[indexChoice1][index]\n",
    "\n",
    "    #Find the largest piece with consideration to the breaking points (and their orders on the stick)\n",
    "    if choice1<choice2:\n",
    "        segMax=max([choice1,choice2-choice1,k+1-choice2])\n",
    "    else:\n",
    "        segMax=max([choice2,choice1-choice2,k+1-choice1])\n",
    "    \n",
    "    #Update the lists with the largest segment length and the event probability\n",
    "    varX.append(segMax)\n",
    "    #The probability of this event depends on both the probability of the first breakage and the one\n",
    "    #for the second breakage. However, since the first breakage happens uniformely randomly, it does\n",
    "    #not matter to multiply it with the probability of the second breakage\n",
    "    probX.append(probChoice2)\n"
   ]
  },
  {
   "cell_type": "code",
   "execution_count": null,
   "metadata": {},
   "outputs": [],
   "source": [
    "#We now need to normalize the probabilities of all events\n",
    "sumProbX=sum(probX)\n",
    "for i in range(N):\n",
    "    probX[i]=probX[i]/sumProbX\n",
    "sum(probX)"
   ]
  },
  {
   "cell_type": "code",
   "execution_count": null,
   "metadata": {},
   "outputs": [],
   "source": [
    "#The expected value for the largest piece\n",
    "xMax=0\n",
    "for i in range (N):\n",
    "    xMax+=probX[i]*varX[i]\n",
    "\n",
    "xMax/k"
   ]
  },
  {
   "cell_type": "code",
   "execution_count": null,
   "metadata": {},
   "outputs": [],
   "source": []
  }
 ],
 "metadata": {
  "kernelspec": {
   "display_name": "Python 3",
   "language": "python",
   "name": "python3"
  },
  "language_info": {
   "codemirror_mode": {
    "name": "ipython",
    "version": 3
   },
   "file_extension": ".py",
   "mimetype": "text/x-python",
   "name": "python",
   "nbconvert_exporter": "python",
   "pygments_lexer": "ipython3",
   "version": "3.6.9"
  }
 },
 "nbformat": 4,
 "nbformat_minor": 2
}
